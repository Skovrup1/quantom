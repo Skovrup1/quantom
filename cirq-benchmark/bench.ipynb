{
 "cells": [
  {
   "cell_type": "code",
   "execution_count": 19,
   "id": "38af57c4-4bbe-4cea-945c-2f2a2d04bc7d",
   "metadata": {},
   "outputs": [],
   "source": [
    "import cirq\n",
    "import qsimcirq\n",
    "import numpy as np"
   ]
  },
  {
   "cell_type": "code",
   "execution_count": 20,
   "id": "7d61f927-f0d4-4ff5-9f03-658724f70f87",
   "metadata": {},
   "outputs": [],
   "source": [
    "def print_state(v):\n",
    "    for i, amp in enumerate(v.final_state_vector):\n",
    "        print(f\"|{i:3d}| {amp.real:.6f}{amp.imag:+.6f}j\")"
   ]
  },
  {
   "cell_type": "code",
   "execution_count": 21,
   "id": "533ee254-1b79-4398-97be-b79c0239d22f",
   "metadata": {},
   "outputs": [],
   "source": [
    "def one():\n",
    "    qubits = cirq.LineQubit.range(1)\n",
    "    circuit = cirq.Circuit()\n",
    "\n",
    "    circuit.append(cirq.H(qubits[0]))\n",
    "    circuit.append(cirq.X(qubits[0]))\n",
    "    circuit.append(cirq.Z(qubits[0]))\n",
    "    circuit.append(cirq.Y(qubits[0]))\n",
    "    circuit.append(cirq.I(qubits[0]))\n",
    "\n",
    "    return circuit"
   ]
  },
  {
   "cell_type": "code",
   "execution_count": 22,
   "id": "f4e0ee4e-222e-4954-96a5-071671464bd5",
   "metadata": {},
   "outputs": [],
   "source": [
    "def two():\n",
    "    qubits = cirq.LineQubit.range(2)\n",
    "    circuit = cirq.Circuit()\n",
    "\n",
    "    circuit.append(cirq.H(qubits[0]))\n",
    "    circuit.append(cirq.CX(qubits[0], qubits[1]))\n",
    "    circuit.append(cirq.Y(qubits[0]))\n",
    "    circuit.append(cirq.X(qubits[1]))\n",
    "    circuit.append(cirq.SWAP(qubits[0], qubits[1]))\n",
    "    circuit.append(cirq.I(qubits[0]))\n",
    "    circuit.append(cirq.Z(qubits[1]))\n",
    "\n",
    "    return circuit"
   ]
  },
  {
   "cell_type": "code",
   "execution_count": 23,
   "id": "de15ba55-2408-4d8a-849a-d4c8fe9cbdbc",
   "metadata": {},
   "outputs": [],
   "source": [
    "def three():\n",
    "    qubits = cirq.LineQubit.range(3)\n",
    "    circuit = cirq.Circuit()\n",
    "    \n",
    "    circuit.append(cirq.H(qubits[0]))\n",
    "    circuit.append(cirq.I(qubits[1]))\n",
    "    circuit.append(cirq.I(qubits[2]))\n",
    "    circuit.append(cirq.CX(qubits[0], qubits[1]))\n",
    "    circuit.append(cirq.I(qubits[2]))\n",
    "    circuit.append(cirq.Y(qubits[0]))\n",
    "    circuit.append(cirq.CX(qubits[1], qubits[2]))\n",
    "    circuit.append(cirq.I(qubits[0]))\n",
    "    circuit.append(cirq.Z(qubits[1]))\n",
    "    circuit.append(cirq.X(qubits[2]))\n",
    "    circuit.append(cirq.SWAP(qubits[0], qubits[1]))\n",
    "    circuit.append(cirq.I(qubits[2]))\n",
    "    circuit.append(cirq.H(qubits[0]))\n",
    "    circuit.append(cirq.H(qubits[1]))\n",
    "    circuit.append(cirq.H(qubits[2]))\n",
    "    circuit.append(cirq.CX(qubits[2], qubits[0]))\n",
    "    circuit.append(cirq.X(qubits[0]))\n",
    "    circuit.append(cirq.Y(qubits[1]))\n",
    "    circuit.append(cirq.Z(qubits[2]))\n",
    "\n",
    "    return circuit"
   ]
  },
  {
   "cell_type": "code",
   "execution_count": 24,
   "id": "92593471-a5b8-4698-941c-a086a36c5bb9",
   "metadata": {},
   "outputs": [],
   "source": [
    "def grover(n = 3, mark = 3):\n",
    "    qubits = cirq.LineQubit.range(n)\n",
    "    circuit = cirq.Circuit()\n",
    "    mcz = cirq.Z.controlled(n - 1)\n",
    "\n",
    "    circuit.append(cirq.H.on_each(qubits))\n",
    "\n",
    "    for i, qubit in enumerate(qubits):\n",
    "        if ((mark >> i) & 1) == 0:\n",
    "            circuit.append(cirq.X(qubit))\n",
    "\n",
    "    circuit.append(mcz(*qubits))\n",
    "\n",
    "    for i, qubit in enumerate(qubits):\n",
    "        if ((mark >> i) & 1) == 0:\n",
    "            circuit.append(cirq.X(qubit))\n",
    "\n",
    "    circuit.append(cirq.H.on_each(qubits))\n",
    "    circuit.append(cirq.X.on_each(qubits))\n",
    "\n",
    "    circuit.append(mcz(*qubits))\n",
    "    \n",
    "    circuit.append(cirq.X.on_each(qubits))\n",
    "    circuit.append(cirq.H.on_each(qubits))\n",
    "\n",
    "    return circuit\n"
   ]
  },
  {
   "cell_type": "code",
   "execution_count": 25,
   "id": "f7d6093a-b61d-49b5-ac53-c5e3ddc8547e",
   "metadata": {},
   "outputs": [],
   "source": [
    "def qft(n = 3):\n",
    "    qubits = cirq.LineQubit.range(n)\n",
    "    circuit = cirq.Circuit()\n",
    "\n",
    "    for i in range(n):\n",
    "        circuit.append(cirq.H(qubits[i]))\n",
    "        for j in range(i + 1, n):\n",
    "            phase = j - i + 1\n",
    "            gate = cirq.CZPowGate(exponent=phase)\n",
    "            circuit.append(gate(qubits[j], qubits[i]))\n",
    "\n",
    "    for i in range (n // 2):\n",
    "        circuit.append(cirq.SWAP(qubits[i], qubits[n - 1 - i]))\n",
    "\n",
    "    return circuit"
   ]
  },
  {
   "cell_type": "code",
   "execution_count": 26,
   "id": "347aa4ad-1e0d-4d83-80d4-312f4746ac18",
   "metadata": {},
   "outputs": [],
   "source": [
    "def default_qft(n = 3):\n",
    "    qubits = cirq.LineQubit.range(n)\n",
    "    circuit = cirq.Circuit()\n",
    "\n",
    "    circuit.append(cirq.qft(*qubits))\n",
    "\n",
    "    return circuit"
   ]
  },
  {
   "cell_type": "code",
   "execution_count": 27,
   "id": "d063b545-a631-497f-a1e6-1ad77197f7db",
   "metadata": {},
   "outputs": [],
   "source": [
    "import time\n",
    "\n",
    "def benchmark_circuits(circuits, num_runs=10, warmup_runs=2, simulator = None):\n",
    "    results = {}\n",
    "\n",
    "    for name, circuit in circuits.items():\n",
    "        print(f\"\\nbenchmarking {name}\")\n",
    "        \n",
    "        for _ in range(warmup_runs):\n",
    "            simulator.simulate(circuit)\n",
    "        \n",
    "        time_data = []\n",
    "        for _ in range(num_runs):\n",
    "            start_time = time.time()\n",
    "            simulator.simulate(circuit)\n",
    "            end_time = time.time()\n",
    "            time_data.append(end_time - start_time)\n",
    "        \n",
    "        avg_time = np.mean(time_data)\n",
    "        std_time = np.std(time_data)\n",
    "        results[name] = {'average_time': avg_time, 'std_dev': std_time}\n",
    "        print(f\"{name}: average time = {avg_time:.4f} seconds, std dev = {std_time:.4f} seconds\")\n",
    "\n",
    "    return results"
   ]
  },
  {
   "cell_type": "code",
   "execution_count": null,
   "id": "247f10d5-bdd4-44dc-a126-81ead4dc18b8",
   "metadata": {
    "scrolled": true
   },
   "outputs": [
    {
     "name": "stdout",
     "output_type": "stream",
     "text": [
      "\n",
      "benchmarking one\n",
      "one: average time = 0.0001 seconds, std dev = 0.0000 seconds\n",
      "\n",
      "benchmarking two\n",
      "two: average time = 0.0001 seconds, std dev = 0.0000 seconds\n",
      "\n",
      "benchmarking three\n",
      "three: average time = 0.0003 seconds, std dev = 0.0000 seconds\n",
      "\n",
      "benchmarking grover\n"
     ]
    }
   ],
   "source": [
    "simulator = qsimcirq.QSimSimulator()\n",
    "\n",
    "one_circuit = one()\n",
    "two_circuit = two()\n",
    "three_circuit = three()\n",
    "qft_circuit = qft(26)\n",
    "grover_circuit = grover(26, 0b0)\n",
    "\n",
    "circuits = {\n",
    "    \"one\": one_circuit,\n",
    "    \"two\": two_circuit,\n",
    "    \"three\": three_circuit,\n",
    "    \"grover\": grover_circuit,\n",
    "    \"qft\": qft_circuit,\n",
    "}\n",
    "\n",
    "results = benchmark_circuits(circuits, 10, 2, simulator=simulator)\n",
    "\n",
    "#print(grover_circuit)\n",
    "#print(qft_circuit)"
   ]
  }
 ],
 "metadata": {
  "kernelspec": {
   "display_name": "myenv",
   "language": "python",
   "name": "myenv"
  },
  "language_info": {
   "codemirror_mode": {
    "name": "ipython",
    "version": 3
   },
   "file_extension": ".py",
   "mimetype": "text/x-python",
   "name": "python",
   "nbconvert_exporter": "python",
   "pygments_lexer": "ipython3",
   "version": "3.10.17"
  }
 },
 "nbformat": 4,
 "nbformat_minor": 5
}
