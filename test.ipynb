{
 "cells": [
  {
   "cell_type": "code",
   "execution_count": null,
   "id": "38af57c4-4bbe-4cea-945c-2f2a2d04bc7d",
   "metadata": {},
   "outputs": [],
   "source": [
    "import cirq\n",
    "import qsimcirq"
   ]
  },
  {
   "cell_type": "code",
   "execution_count": 41,
   "id": "7d61f927-f0d4-4ff5-9f03-658724f70f87",
   "metadata": {},
   "outputs": [],
   "source": [
    "def print_state(v):\n",
    "    for i, amp in enumerate(v.final_state_vector):\n",
    "        basis = format(i, f'0{len(qubits)}b')\n",
    "        print(f\"|{basis}⟩: {amp.real:.6f}{amp.imag:+.6f}j\")"
   ]
  },
  {
   "cell_type": "code",
   "execution_count": 1,
   "id": "247f10d5-bdd4-44dc-a126-81ead4dc18b8",
   "metadata": {},
   "outputs": [
    {
     "ename": "NameError",
     "evalue": "name 'cirq' is not defined",
     "output_type": "error",
     "traceback": [
      "\u001b[0;31m---------------------------------------------------------------------------\u001b[0m",
      "\u001b[0;31mNameError\u001b[0m                                 Traceback (most recent call last)",
      "Cell \u001b[0;32mIn[1], line 1\u001b[0m\n\u001b[0;32m----> 1\u001b[0m qubits \u001b[38;5;241m=\u001b[39m \u001b[43mcirq\u001b[49m\u001b[38;5;241m.\u001b[39mLineQubit\u001b[38;5;241m.\u001b[39mrange(\u001b[38;5;241m3\u001b[39m)\n\u001b[1;32m      2\u001b[0m circuit \u001b[38;5;241m=\u001b[39m cirq\u001b[38;5;241m.\u001b[39mCircuit()\n\u001b[1;32m      4\u001b[0m circuit\u001b[38;5;241m.\u001b[39mappend(cirq\u001b[38;5;241m.\u001b[39mH(qubits[\u001b[38;5;241m0\u001b[39m]))\n",
      "\u001b[0;31mNameError\u001b[0m: name 'cirq' is not defined"
     ]
    }
   ],
   "source": [
    "qubits = cirq.LineQubit.range(3)\n",
    "circuit = cirq.Circuit()\n",
    "\n",
    "circuit.append(cirq.H(qubits[0]))\n",
    "circuit.append(cirq.H(qubits[1]))\n",
    "\n",
    "print(\"Circuit diagram:\")\n",
    "print(circuit)\n",
    "\n",
    "# Simulate\n",
    "simulator = qsimcirq.QSimSimulator()\n",
    "result = simulator.simulate(circuit)\n",
    "\n",
    "qsim_simulator = qsimcirq.QSimSimulator()\n",
    "result = qsim_simulator.simulate(circuit, qubit_order=qubits)\n",
    "\n",
    "print_state(result)"
   ]
  },
  {
   "cell_type": "code",
   "execution_count": null,
   "id": "49297c9c-0294-41ef-ae0a-77a26c25bc05",
   "metadata": {},
   "outputs": [],
   "source": []
  }
 ],
 "metadata": {
  "kernelspec": {
   "display_name": "Python 3 (ipykernel)",
   "language": "python",
   "name": "python3"
  },
  "language_info": {
   "codemirror_mode": {
    "name": "ipython",
    "version": 3
   },
   "file_extension": ".py",
   "mimetype": "text/x-python",
   "name": "python",
   "nbconvert_exporter": "python",
   "pygments_lexer": "ipython3",
   "version": "3.12.10"
  }
 },
 "nbformat": 4,
 "nbformat_minor": 5
}
