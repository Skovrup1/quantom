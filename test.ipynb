{
 "cells": [
  {
   "cell_type": "code",
   "execution_count": 2,
   "id": "38af57c4-4bbe-4cea-945c-2f2a2d04bc7d",
   "metadata": {},
   "outputs": [],
   "source": [
    "import cirq\n",
    "import qsimcirq"
   ]
  },
  {
   "cell_type": "code",
   "execution_count": 3,
   "id": "7d61f927-f0d4-4ff5-9f03-658724f70f87",
   "metadata": {},
   "outputs": [],
   "source": [
    "def print_state(v):\n",
    "    for i, amp in enumerate(v.final_state_vector):\n",
    "        basis = format(i, f'0{len(qubits)}b')\n",
    "        print(f\"|{basis}⟩: {amp.real:.6f}{amp.imag:+.6f}j\")"
   ]
  },
  {
   "cell_type": "code",
   "execution_count": 75,
   "id": "247f10d5-bdd4-44dc-a126-81ead4dc18b8",
   "metadata": {},
   "outputs": [
    {
     "name": "stdout",
     "output_type": "stream",
     "text": [
      "Circuit diagram:\n",
      "0: ───X───\n",
      "\n",
      "1: ───X───\n",
      "|00⟩: 0.000000+0.000000j\n",
      "|01⟩: 0.000000+0.000000j\n",
      "|10⟩: 0.000000+0.000000j\n",
      "|11⟩: 1.000000+0.000000j\n"
     ]
    }
   ],
   "source": [
    "qubits = cirq.LineQubit.range(2)\n",
    "circuit = cirq.Circuit()\n",
    "\n",
    "circuit.append(cirq.X(qubits[0]))\n",
    "circuit.append(cirq.X(qubits[1]))\n",
    "\n",
    "print(\"Circuit diagram:\")\n",
    "print(circuit)\n",
    "\n",
    "# Simulate\n",
    "simulator = qsimcirq.QSimSimulator()\n",
    "result = simulator.simulate(circuit)\n",
    "\n",
    "qsim_simulator = qsimcirq.QSimSimulator()\n",
    "result = qsim_simulator.simulate(circuit)\n",
    "\n",
    "print_state(result)"
   ]
  },
  {
   "cell_type": "code",
   "execution_count": null,
   "id": "0a130522-065a-4be7-9793-fe76dee24c24",
   "metadata": {},
   "outputs": [],
   "source": []
  }
 ],
 "metadata": {
  "kernelspec": {
   "display_name": "Python 3 (ipykernel)",
   "language": "python",
   "name": "python3"
  },
  "language_info": {
   "codemirror_mode": {
    "name": "ipython",
    "version": 3
   },
   "file_extension": ".py",
   "mimetype": "text/x-python",
   "name": "python",
   "nbconvert_exporter": "python",
   "pygments_lexer": "ipython3",
   "version": "3.12.9"
  }
 },
 "nbformat": 4,
 "nbformat_minor": 5
}
