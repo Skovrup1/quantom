{
 "cells": [
  {
   "cell_type": "code",
   "execution_count": 13,
   "id": "38af57c4-4bbe-4cea-945c-2f2a2d04bc7d",
   "metadata": {},
   "outputs": [],
   "source": [
    "import cirq\n",
    "import qsimcirq\n",
    "import numpy as np"
   ]
  },
  {
   "cell_type": "code",
   "execution_count": 14,
   "id": "7d61f927-f0d4-4ff5-9f03-658724f70f87",
   "metadata": {},
   "outputs": [],
   "source": [
    "def print_state(v):\n",
    "    for i, amp in enumerate(v.final_state_vector):\n",
    "        basis = format(i, f'0{len(qubits)}b')\n",
    "        print(f\"|{basis}⟩: {amp.real:.6f}{amp.imag:+.6f}j\")"
   ]
  },
  {
   "cell_type": "code",
   "execution_count": 17,
   "id": "247f10d5-bdd4-44dc-a126-81ead4dc18b8",
   "metadata": {},
   "outputs": [
    {
     "ename": "IndexError",
     "evalue": "list index out of range",
     "output_type": "error",
     "traceback": [
      "\u001b[0;31m---------------------------------------------------------------------------\u001b[0m",
      "\u001b[0;31mIndexError\u001b[0m                                Traceback (most recent call last)",
      "Cell \u001b[0;32mIn[17], line 10\u001b[0m\n\u001b[1;32m      7\u001b[0m         phase \u001b[38;5;241m=\u001b[39m \u001b[38;5;241m2\u001b[39m \u001b[38;5;241m*\u001b[39m np\u001b[38;5;241m.\u001b[39mpi \u001b[38;5;241m/\u001b[39m (\u001b[38;5;241m2\u001b[39m \u001b[38;5;241m*\u001b[39m\u001b[38;5;241m*\u001b[39m (k \u001b[38;5;241m-\u001b[39m j \u001b[38;5;241m+\u001b[39m \u001b[38;5;241m1\u001b[39m))\n\u001b[1;32m      8\u001b[0m         circuit\u001b[38;5;241m.\u001b[39mappend(cirq\u001b[38;5;241m.\u001b[39mCZPowGate(exponent\u001b[38;5;241m=\u001b[39mphase \u001b[38;5;241m/\u001b[39m np\u001b[38;5;241m.\u001b[39mpi)(qubits[k], qubits[j]))\n\u001b[0;32m---> 10\u001b[0m circuit\u001b[38;5;241m.\u001b[39mappend(cirq\u001b[38;5;241m.\u001b[39mSWAP(qubits[\u001b[38;5;241m0\u001b[39m], \u001b[43mqubits\u001b[49m\u001b[43m[\u001b[49m\u001b[38;5;241;43m3\u001b[39;49m\u001b[43m]\u001b[49m))\n\u001b[1;32m     11\u001b[0m circuit\u001b[38;5;241m.\u001b[39mappend(cirq\u001b[38;5;241m.\u001b[39mSWAP(qubits[\u001b[38;5;241m1\u001b[39m], qubits[\u001b[38;5;241m2\u001b[39m]))\n\u001b[1;32m     13\u001b[0m \u001b[38;5;28mprint\u001b[39m(\u001b[38;5;124m\"\u001b[39m\u001b[38;5;124mCircuit diagram:\u001b[39m\u001b[38;5;124m\"\u001b[39m)\n",
      "\u001b[0;31mIndexError\u001b[0m: list index out of range"
     ]
    }
   ],
   "source": [
    "qubits = cirq.LineQubit.range(2)\n",
    "circuit = cirq.Circuit()\n",
    "\n",
    "for j in range(2):\n",
    "    circuit.append(cirq.H(qubits[j]))\n",
    "    for k in range(j + 1, 2):\n",
    "        phase = 2 * np.pi / (2 ** (k - j + 1))\n",
    "        circuit.append(cirq.CZPowGate(exponent=phase / np.pi)(qubits[k], qubits[j]))\n",
    "\n",
    "circuit.append(cirq.SWAP(qubits[0], qubits[3]))\n",
    "circuit.append(cirq.SWAP(qubits[1], qubits[2]))\n",
    "\n",
    "print(\"Circuit diagram:\")\n",
    "print(circuit)\n",
    "\n",
    "# Simulate\n",
    "simulator = qsimcirq.QSimSimulator()\n",
    "result = simulator.simulate(circuit)\n",
    "\n",
    "qsim_simulator = qsimcirq.QSimSimulator()\n",
    "result = qsim_simulator.simulate(circuit, qubit_order=qubits)\n",
    "\n",
    "print_state(result)"
   ]
  },
  {
   "cell_type": "code",
   "execution_count": null,
   "id": "18d429fd-26cd-4107-9d7a-98ac6f96599a",
   "metadata": {},
   "outputs": [],
   "source": []
  }
 ],
 "metadata": {
  "kernelspec": {
   "display_name": "Python 3 (ipykernel)",
   "language": "python",
   "name": "python3"
  },
  "language_info": {
   "codemirror_mode": {
    "name": "ipython",
    "version": 3
   },
   "file_extension": ".py",
   "mimetype": "text/x-python",
   "name": "python",
   "nbconvert_exporter": "python",
   "pygments_lexer": "ipython3",
   "version": "3.12.10"
  }
 },
 "nbformat": 4,
 "nbformat_minor": 5
}
