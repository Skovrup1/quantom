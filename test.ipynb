{
 "cells": [
  {
   "cell_type": "code",
   "execution_count": 6,
   "id": "38af57c4-4bbe-4cea-945c-2f2a2d04bc7d",
   "metadata": {},
   "outputs": [],
   "source": [
    "import cirq\n",
    "import qsimcirq"
   ]
  },
  {
   "cell_type": "code",
   "execution_count": 14,
   "id": "344b4c55-e106-4995-a0c7-9e59755340f9",
   "metadata": {},
   "outputs": [
    {
     "name": "stdout",
     "output_type": "stream",
     "text": [
      "Circuit diagram:\n",
      "0: ───Y───\n",
      "Vector\n",
      "[0.+0.j 0.+1.j]\n"
     ]
    }
   ],
   "source": [
    "import cirq\n",
    "import qsimcirq\n",
    "\n",
    "qubits = cirq.LineQubit.range(3)\n",
    "circuit = cirq.Circuit()\n",
    "\n",
    "circuit.append(cirq.H(qubits[1]))\n",
    "\n",
    "print(\"Circuit diagram:\")\n",
    "print(circuit)\n",
    "\n",
    "qsim_simulator = qsimcirq.QSimSimulator()\n",
    "\n",
    "result = qsim_simulator.simulate(circuit)\n",
    "\n",
    "print(\"Vector\")\n",
    "print(result.final_state_vector)"
   ]
  },
  {
   "cell_type": "code",
   "execution_count": null,
   "id": "2e2af9f9-d4d9-42e2-aa92-fda5742c31ac",
   "metadata": {},
   "outputs": [],
   "source": []
  }
 ],
 "metadata": {
  "kernelspec": {
   "display_name": "Python 3 (ipykernel)",
   "language": "python",
   "name": "python3"
  },
  "language_info": {
   "codemirror_mode": {
    "name": "ipython",
    "version": 3
   },
   "file_extension": ".py",
   "mimetype": "text/x-python",
   "name": "python",
   "nbconvert_exporter": "python",
   "pygments_lexer": "ipython3",
   "version": "3.12.9"
  }
 },
 "nbformat": 4,
 "nbformat_minor": 5
}
