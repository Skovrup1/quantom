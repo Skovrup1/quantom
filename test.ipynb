{
 "cells": [
  {
   "cell_type": "code",
   "execution_count": 1,
   "id": "38af57c4-4bbe-4cea-945c-2f2a2d04bc7d",
   "metadata": {},
   "outputs": [],
   "source": [
    "import cirq\n",
    "import qsimcirq\n",
    "import numpy as np"
   ]
  },
  {
   "cell_type": "code",
   "execution_count": 2,
   "id": "7d61f927-f0d4-4ff5-9f03-658724f70f87",
   "metadata": {},
   "outputs": [],
   "source": [
    "def print_state(v):\n",
    "    for i, amp in enumerate(v.final_state_vector):\n",
    "        basis = format(i, f'0{len(qubits)}b')\n",
    "        print(f\"|{basis}⟩: {amp.real:.6f}{amp.imag:+.6f}j\")"
   ]
  },
  {
   "cell_type": "code",
   "execution_count": 5,
   "id": "247f10d5-bdd4-44dc-a126-81ead4dc18b8",
   "metadata": {},
   "outputs": [
    {
     "name": "stdout",
     "output_type": "stream",
     "text": [
      "[-0.177+0.j -0.884-0.j -0.177+0.j -0.177+0.j -0.177-0.j -0.177-0.j\n",
      " -0.177-0.j -0.177+0.j]\n",
      "Circuit diagram:\n",
      "0: ───H───X──────────────@──────────────────@───@───T──────@───X───H───X───@───X───H───\n",
      "                         │                  │   │          │               │\n",
      "1: ───H───X───@──────────┼───────@───T──────┼───X───T^-1───X───X───H───X───@───X───H───\n",
      "              │          │       │          │                              │\n",
      "2: ───H───────X───T^-1───X───T───X───T^-1───X───T───H──────X───────────────@───X───H───\n",
      "|000⟩: -0.176777+0.000000j\n",
      "|001⟩: -0.883883-0.000000j\n",
      "|010⟩: -0.176777+0.000000j\n",
      "|011⟩: -0.176777+0.000000j\n",
      "|100⟩: -0.176777-0.000000j\n",
      "|101⟩: -0.176777-0.000000j\n",
      "|110⟩: -0.176777-0.000000j\n",
      "|111⟩: -0.176777+0.000000j\n"
     ]
    }
   ],
   "source": [
    "qubits = cirq.LineQubit.range(3)\n",
    "circuit = cirq.Circuit()\n",
    "q0, q1, q2 = qubits\n",
    "\n",
    "circuit.append(cirq.H.on_each(q0, q1, q2))\n",
    "\n",
    "circuit.append([cirq.X(q0), cirq.X(q1)])\n",
    "\n",
    "if (True):\n",
    "    circuit.append([\n",
    "        cirq.CNOT(q1, q2),\n",
    "        cirq.T(q2)**-1,\n",
    "        cirq.CNOT(q0, q2),\n",
    "        cirq.T(q2),\n",
    "        cirq.CNOT(q1, q2),\n",
    "        cirq.T(q2)**-1,\n",
    "        cirq.CNOT(q0, q2),\n",
    "        cirq.T(q2),\n",
    "        cirq.T(q1),\n",
    "        cirq.CNOT(q0, q1),\n",
    "        cirq.T(q1)**-1,\n",
    "        cirq.T(q0),\n",
    "        cirq.CNOT(q0, q1),\n",
    "    ])\n",
    "else:\n",
    "    circuit.append(cirq.CCZ(q0, q1, q2))\n",
    "\n",
    "circuit.append([cirq.X(q0), cirq.X(q1)])\n",
    "\n",
    "circuit.append(cirq.H.on_each(q0, q1, q2))\n",
    "circuit.append(cirq.X.on_each(q0, q1, q2))\n",
    "\n",
    "circuit.append(cirq.CCZ(q0, q1, q2))\n",
    "\n",
    "circuit.append(cirq.X.on_each(q0, q1, q2))\n",
    "circuit.append(cirq.H.on_each(q0, q1, q2))\n",
    "\n",
    "simulator = qsimcirq.QSimSimulator()\n",
    "result = simulator.simulate(circuit, qubit_order=qubits)\n",
    "print(np.around(result.final_state_vector, 3))\n",
    "\n",
    "print(\"Circuit diagram:\")\n",
    "print(circuit)\n",
    "\n",
    "print_state(result)"
   ]
  },
  {
   "cell_type": "code",
   "execution_count": 16,
   "id": "18d429fd-26cd-4107-9d7a-98ac6f96599a",
   "metadata": {},
   "outputs": [
    {
     "name": "stdout",
     "output_type": "stream",
     "text": [
      "[0.+0.j 1.+0.j 0.+0.j 0.+0.j]\n",
      "Circuit diagram:\n",
      "0: ───X───@───X───\n",
      "          │   │\n",
      "1: ───────X───@───\n",
      "|00⟩: 0.000000+0.000000j\n",
      "|01⟩: 1.000000+0.000000j\n",
      "|10⟩: 0.000000+0.000000j\n",
      "|11⟩: 0.000000+0.000000j\n"
     ]
    }
   ],
   "source": [
    "qubits = cirq.LineQubit.range(2)\n",
    "circuit = cirq.Circuit()\n",
    "q0, q1 = qubits\n",
    "\n",
    "circuit.append(cirq.X(q0))\n",
    "circuit.append(cirq.CNOT(q0, q1))\n",
    "circuit.append(cirq.CNOT(q1, q0))\n",
    "\n",
    "simulator = qsimcirq.QSimSimulator()\n",
    "result = simulator.simulate(circuit, qubit_order=qubits)\n",
    "print(np.around(result.final_state_vector, 3))\n",
    "\n",
    "print(\"Circuit diagram:\")\n",
    "print(circuit)\n",
    "\n",
    "print_state(result)"
   ]
  },
  {
   "cell_type": "code",
   "execution_count": null,
   "id": "3bc76790-460c-4862-bae9-b6d9f2bf5ee3",
   "metadata": {},
   "outputs": [],
   "source": []
  }
 ],
 "metadata": {
  "kernelspec": {
   "display_name": "myenv",
   "language": "python",
   "name": "myenv"
  },
  "language_info": {
   "codemirror_mode": {
    "name": "ipython",
    "version": 3
   },
   "file_extension": ".py",
   "mimetype": "text/x-python",
   "name": "python",
   "nbconvert_exporter": "python",
   "pygments_lexer": "ipython3",
   "version": "3.10.17"
  }
 },
 "nbformat": 4,
 "nbformat_minor": 5
}
